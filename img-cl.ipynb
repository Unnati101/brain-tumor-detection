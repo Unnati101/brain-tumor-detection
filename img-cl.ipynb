{
 "cells": [
  {
   "cell_type": "code",
   "execution_count": 1,
   "metadata": {},
   "outputs": [
    {
     "name": "stdout",
     "output_type": "stream",
     "text": [
      "WARNING:tensorflow:From c:\\Users\\rasto\\Desktop\\brain-tumor-detection\\.venv\\lib\\site-packages\\keras\\src\\losses.py:2976: The name tf.losses.sparse_softmax_cross_entropy is deprecated. Please use tf.compat.v1.losses.sparse_softmax_cross_entropy instead.\n",
      "\n"
     ]
    }
   ],
   "source": [
    "import cv2\n",
    "import os\n",
    "import tensorflow as tf\n",
    "from tensorflow import keras \n",
    "from PIL import Image\n",
    "import numpy as np \n",
    "from sklearn.model_selection import train_test_split\n",
    "from keras.utils import normalize\n",
    "from keras.models import Sequential \n",
    "from keras.layers import Conv2D, MaxPooling2D\n",
    "from keras.layers import Activation, Dropout, Flatten, Dense\n",
    "from keras.utils import to_categorical"
   ]
  },
  {
   "cell_type": "code",
   "execution_count": 2,
   "metadata": {},
   "outputs": [],
   "source": [
    "\n",
    "image_directory='datasets/'\n",
    "\n",
    "no_tumor_images=os.listdir(image_directory+ 'no/')\n",
    "yes_tumor_images=os.listdir(image_directory+ 'yes/')\n",
    "dataset=[]\n",
    "label=[]\n",
    "\n",
    "INPUT_SIZE=64 "
   ]
  },
  {
   "cell_type": "code",
   "execution_count": 3,
   "metadata": {},
   "outputs": [],
   "source": [
    "\n",
    "for i , image_name in enumerate(no_tumor_images):\n",
    "    if(image_name.split('.')[1]=='jpg'):\n",
    "        image=cv2.imread(image_directory+'no/'+image_name)\n",
    "        image=Image.fromarray(image,'RGB')\n",
    "        image=image.resize((INPUT_SIZE,INPUT_SIZE))\n",
    "        dataset.append(np.array(image))\n",
    "        label.append(0)\n",
    "\n",
    "for i , image_name in enumerate(yes_tumor_images):\n",
    "    if(image_name.split('.')[1]=='jpg'):\n",
    "        image=cv2.imread(image_directory+'yes/'+image_name)\n",
    "        image=Image.fromarray(image, 'RGB')\n",
    "        image=image.resize((INPUT_SIZE,INPUT_SIZE))\n",
    "        dataset.append(np.array(image))\n",
    "        label.append(1)\n",
    "\n",
    "dataset=np.array(dataset)\n",
    "label=np.array(label)\n",
    "\n",
    "\n",
    "x_train, x_test, y_train, y_test=train_test_split(dataset, label, test_size=0.2, random_state=0)\n"
   ]
  },
  {
   "cell_type": "code",
   "execution_count": 4,
   "metadata": {},
   "outputs": [],
   "source": [
    "\n",
    "# Reshape = (n, image_width, image_height, n_channel)\n",
    "\n",
    "# print(x_train.shape)\n",
    "# print(y_train.shape)\n",
    "\n",
    "# print(x_test.shape)\n",
    "# print(y_test.shape)\n",
    "\n",
    "x_train=normalize(x_train, axis=1)\n",
    "x_test=normalize(x_test, axis=1)\n",
    "\n",
    "y_train=to_categorical(y_train , num_classes=2)\n",
    "y_test=to_categorical(y_test , num_classes=2)"
   ]
  },
  {
   "cell_type": "code",
   "execution_count": 5,
   "metadata": {},
   "outputs": [
    {
     "name": "stdout",
     "output_type": "stream",
     "text": [
      "WARNING:tensorflow:From c:\\Users\\rasto\\Desktop\\brain-tumor-detection\\.venv\\lib\\site-packages\\keras\\src\\backend.py:873: The name tf.get_default_graph is deprecated. Please use tf.compat.v1.get_default_graph instead.\n",
      "\n",
      "WARNING:tensorflow:From c:\\Users\\rasto\\Desktop\\brain-tumor-detection\\.venv\\lib\\site-packages\\keras\\src\\layers\\pooling\\max_pooling2d.py:161: The name tf.nn.max_pool is deprecated. Please use tf.nn.max_pool2d instead.\n",
      "\n"
     ]
    }
   ],
   "source": [
    "# Model Building\n",
    "# 64,64,3\n",
    "\n",
    "model=Sequential()\n",
    "\n",
    "model.add(Conv2D(32, (3,3), input_shape=(INPUT_SIZE, INPUT_SIZE, 3)))\n",
    "model.add(Activation('relu'))\n",
    "model.add(MaxPooling2D(pool_size=(2,2)))\n",
    "\n",
    "model.add(Conv2D(32, (3,3), kernel_initializer='he_uniform'))\n",
    "model.add(Activation('relu'))\n",
    "model.add(MaxPooling2D(pool_size=(2,2)))\n",
    "\n",
    "\n",
    "model.add(Conv2D(64, (3,3), kernel_initializer='he_uniform'))\n",
    "model.add(Activation('relu'))\n",
    "model.add(MaxPooling2D(pool_size=(2,2)))\n",
    "\n",
    "model.add(Flatten())\n",
    "model.add(Dense(64))\n",
    "model.add(Activation('relu'))\n",
    "model.add(Dropout(0.5))\n",
    "model.add(Dense(2))\n",
    "model.add(Activation('softmax'))\n",
    "\n"
   ]
  },
  {
   "cell_type": "code",
   "execution_count": 6,
   "metadata": {},
   "outputs": [
    {
     "name": "stdout",
     "output_type": "stream",
     "text": [
      "WARNING:tensorflow:From c:\\Users\\rasto\\Desktop\\brain-tumor-detection\\.venv\\lib\\site-packages\\keras\\src\\optimizers\\__init__.py:309: The name tf.train.Optimizer is deprecated. Please use tf.compat.v1.train.Optimizer instead.\n",
      "\n",
      "Epoch 1/10\n",
      "WARNING:tensorflow:From c:\\Users\\rasto\\Desktop\\brain-tumor-detection\\.venv\\lib\\site-packages\\keras\\src\\utils\\tf_utils.py:492: The name tf.ragged.RaggedTensorValue is deprecated. Please use tf.compat.v1.ragged.RaggedTensorValue instead.\n",
      "\n",
      "WARNING:tensorflow:From c:\\Users\\rasto\\Desktop\\brain-tumor-detection\\.venv\\lib\\site-packages\\keras\\src\\engine\\base_layer_utils.py:384: The name tf.executing_eagerly_outside_functions is deprecated. Please use tf.compat.v1.executing_eagerly_outside_functions instead.\n",
      "\n",
      "9/9 [==============================] - 3s 98ms/step - loss: 0.7013 - accuracy: 0.4485 - val_loss: 0.6689 - val_accuracy: 0.6857\n",
      "Epoch 2/10\n",
      "9/9 [==============================] - 0s 49ms/step - loss: 0.6668 - accuracy: 0.6544 - val_loss: 0.6296 - val_accuracy: 0.7143\n",
      "Epoch 3/10\n",
      "9/9 [==============================] - 0s 39ms/step - loss: 0.6246 - accuracy: 0.6765 - val_loss: 0.5702 - val_accuracy: 0.7429\n",
      "Epoch 4/10\n",
      "9/9 [==============================] - 0s 43ms/step - loss: 0.6104 - accuracy: 0.6544 - val_loss: 0.5122 - val_accuracy: 0.8000\n",
      "Epoch 5/10\n",
      "9/9 [==============================] - 0s 43ms/step - loss: 0.5633 - accuracy: 0.7279 - val_loss: 0.4865 - val_accuracy: 0.8000\n",
      "Epoch 6/10\n",
      "9/9 [==============================] - 0s 40ms/step - loss: 0.5208 - accuracy: 0.7132 - val_loss: 0.4856 - val_accuracy: 0.8000\n",
      "Epoch 7/10\n",
      "9/9 [==============================] - 0s 47ms/step - loss: 0.5191 - accuracy: 0.7279 - val_loss: 0.4714 - val_accuracy: 0.8286\n",
      "Epoch 8/10\n",
      "9/9 [==============================] - 0s 45ms/step - loss: 0.5002 - accuracy: 0.7500 - val_loss: 0.4544 - val_accuracy: 0.8286\n",
      "Epoch 9/10\n",
      "9/9 [==============================] - 0s 42ms/step - loss: 0.4337 - accuracy: 0.8088 - val_loss: 0.4348 - val_accuracy: 0.8286\n",
      "Epoch 10/10\n",
      "9/9 [==============================] - 0s 48ms/step - loss: 0.4094 - accuracy: 0.7941 - val_loss: 0.4321 - val_accuracy: 0.8571\n"
     ]
    },
    {
     "name": "stderr",
     "output_type": "stream",
     "text": [
      "c:\\Users\\rasto\\Desktop\\brain-tumor-detection\\.venv\\lib\\site-packages\\keras\\src\\engine\\training.py:3103: UserWarning: You are saving your model as an HDF5 file via `model.save()`. This file format is considered legacy. We recommend using instead the native Keras format, e.g. `model.save('my_model.keras')`.\n",
      "  saving_api.save_model(\n"
     ]
    }
   ],
   "source": [
    "\n",
    "# Binary CrossEntropy= 1, sigmoid\n",
    "# Categorical Cross Entryopy= 2 , softmax\n",
    "\n",
    "model.compile(loss='categorical_crossentropy',optimizer='adam', metrics=['accuracy'])\n",
    "\n",
    "\n",
    "model.fit(x_train, y_train, \n",
    "batch_size=16, \n",
    "verbose=1, epochs=10, \n",
    "validation_data=(x_test, y_test),\n",
    "shuffle=False)\n",
    "\n",
    "\n",
    "model.save('BrainTumormodel.h5')"
   ]
  },
  {
   "cell_type": "code",
   "execution_count": 7,
   "metadata": {},
   "outputs": [],
   "source": [
    "from keras.models import load_model"
   ]
  },
  {
   "cell_type": "code",
   "execution_count": 8,
   "metadata": {},
   "outputs": [
    {
     "name": "stdout",
     "output_type": "stream",
     "text": [
      "1/1 [==============================] - 0s 148ms/step\n",
      "[[0. 1.]]\n"
     ]
    }
   ],
   "source": [
    "model=load_model('BrainTumormodel.h5')\n",
    "\n",
    "image=cv2.imread('C:\\\\Users\\\\rasto\\\\Desktop\\\\brain-tumor-detection\\\\test-data\\\\pred5.jpg')\n",
    "\n",
    "img=Image.fromarray(image)\n",
    "\n",
    "img=img.resize((64,64))\n",
    "\n",
    "img=np.array(img)\n",
    "\n",
    "input_img=np.expand_dims(img, axis=0)\n",
    "\n",
    "result=model.predict(input_img)\n",
    "print(result)"
   ]
  },
  {
   "cell_type": "code",
   "execution_count": 9,
   "metadata": {},
   "outputs": [],
   "source": [
    "from tensorflow.keras.preprocessing import image\n",
    "from flask import Flask, request, render_template\n",
    "from werkzeug.utils import secure_filename"
   ]
  },
  {
   "cell_type": "code",
   "execution_count": 10,
   "metadata": {},
   "outputs": [
    {
     "name": "stdout",
     "output_type": "stream",
     "text": [
      "Model loaded. Check http://127.0.0.1:5000/\n",
      " * Serving Flask app '__main__'\n",
      " * Debug mode: on\n"
     ]
    },
    {
     "name": "stderr",
     "output_type": "stream",
     "text": [
      "WARNING: This is a development server. Do not use it in a production deployment. Use a production WSGI server instead.\n",
      " * Running on http://127.0.0.1:5000\n",
      "Press CTRL+C to quit\n",
      "127.0.0.1 - - [14/Jan/2024 11:01:04] \"GET / HTTP/1.1\" 200 -\n",
      "127.0.0.1 - - [14/Jan/2024 11:01:05] \"GET /static/js/bootstrap.min.js HTTP/1.1\" 304 -\n",
      "127.0.0.1 - - [14/Jan/2024 11:01:05] \"GET /static/js/newjs.js HTTP/1.1\" 304 -\n",
      "127.0.0.1 - - [14/Jan/2024 11:01:05] \"GET /static/css/bootstrap.min.css HTTP/1.1\" 304 -\n",
      "127.0.0.1 - - [14/Jan/2024 11:01:05] \"GET /static/css/test.css HTTP/1.1\" 304 -\n",
      "127.0.0.1 - - [14/Jan/2024 11:01:05] \"GET /static/js/jquery.min.js HTTP/1.1\" 304 -\n",
      "127.0.0.1 - - [14/Jan/2024 11:01:05] \"GET / HTTP/1.1\" 200 -\n"
     ]
    }
   ],
   "source": [
    "app = Flask(__name__)\n",
    "\n",
    "\n",
    "model =load_model('BrainTumormodel.h5')\n",
    "print('Model loaded. Check http://127.0.0.1:5000/')\n",
    "\n",
    "\n",
    "def get_className(classNo):\n",
    "\tif classNo==0:\n",
    "\t\treturn \"No Brain Tumor\"\n",
    "\telif classNo==1:\n",
    "\t\treturn \"Yes Brain Tumor\"\n",
    "\n",
    "\n",
    "def getResult(img):\n",
    "    image=cv2.imread(img)\n",
    "    image = Image.fromarray(image, 'RGB')\n",
    "    image = image.resize((64, 64))\n",
    "    image=np.array(image)\n",
    "    input_img = np.expand_dims(image, axis=0)\n",
    "    result=model.predict(input_img)\n",
    "    return result\n",
    "\n",
    "\n",
    "@app.route('/', methods=['GET'])\n",
    "def index():\n",
    "    return render_template('index.html')\n",
    "\n",
    "\n",
    "@app.route('/predict', methods=['GET', 'POST'])\n",
    "def upload():\n",
    "    if request.method == 'POST':\n",
    "        f = request.files['file']\n",
    "\n",
    "        basepath = os.path.dirname('C:\\\\Users\\\\rasto\\\\Desktop\\\\brain-tumor-detection\\\\test-data')\n",
    "        file_path = os.path.join(\n",
    "            basepath, 'test-data', secure_filename(f.filename))\n",
    "        f.save(file_path)\n",
    "        value=getResult(file_path)\n",
    "        if value[0][1]==1:\n",
    "            value[0][0]=1\n",
    "        else:\n",
    "             value[0][1]=0\n",
    "            \n",
    "        \n",
    "        res = value.all()\n",
    "        result=get_className(res)\n",
    "        return result\n",
    "    return None\n",
    "\n",
    "\n",
    "if __name__ == '__main__':\n",
    "    app.run(debug=True, use_reloader=False)"
   ]
  },
  {
   "cell_type": "code",
   "execution_count": null,
   "metadata": {},
   "outputs": [],
   "source": []
  }
 ],
 "metadata": {
  "kernelspec": {
   "display_name": ".venv",
   "language": "python",
   "name": "python3"
  },
  "language_info": {
   "codemirror_mode": {
    "name": "ipython",
    "version": 3
   },
   "file_extension": ".py",
   "mimetype": "text/x-python",
   "name": "python",
   "nbconvert_exporter": "python",
   "pygments_lexer": "ipython3",
   "version": "3.9.10"
  }
 },
 "nbformat": 4,
 "nbformat_minor": 2
}
